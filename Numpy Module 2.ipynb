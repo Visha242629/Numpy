{
 "cells": [
  {
   "cell_type": "code",
   "execution_count": 1,
   "id": "d900fec7",
   "metadata": {},
   "outputs": [
    {
     "data": {
      "text/plain": [
       "array([10., 20., 30., 40., 50.])"
      ]
     },
     "execution_count": 1,
     "metadata": {},
     "output_type": "execute_result"
    }
   ],
   "source": [
    "# The numpy.linspace() function returns number spaces evenly w.r.t interval\n",
    "# Syntax np.linspace(Start, End, Number of sempels you want to genrate)\n",
    "import numpy as np \n",
    "np.linspace(10,50,5)"
   ]
  },
  {
   "cell_type": "code",
   "execution_count": 2,
   "id": "06010171",
   "metadata": {},
   "outputs": [
    {
     "name": "stdout",
     "output_type": "stream",
     "text": [
      "x: [[1. 0. 0. 0. 0.]\n",
      " [0. 1. 0. 0. 0.]\n",
      " [0. 0. 1. 0. 0.]\n",
      " [0. 0. 0. 1. 0.]]\n",
      "   \n",
      "y: [[1. 0. 0. 0.]\n",
      " [0. 1. 0. 0.]\n",
      " [0. 0. 1. 0.]\n",
      " [0. 0. 0. 1.]]\n"
     ]
    }
   ],
   "source": [
    "# numpy identity matrix\n",
    "# Function is use for identity matrix is eye()\n",
    "# Syntax np.eye(\"Number of row and column\")\n",
    "\n",
    "import numpy as np \n",
    "x=np.eye(4,5)\n",
    "y=np.eye(4)\n",
    "print(\"x:\",x)\n",
    "print(\"   \")\n",
    "print(\"y:\",y)"
   ]
  },
  {
   "cell_type": "code",
   "execution_count": 3,
   "id": "7b602982",
   "metadata": {},
   "outputs": [
    {
     "data": {
      "text/plain": [
       "array([[0.31468179, 0.55907533, 0.68391317],\n",
       "       [0.47485457, 0.58692266, 0.58838881],\n",
       "       [0.36403241, 0.21883945, 0.60529376]])"
      ]
     },
     "execution_count": 3,
     "metadata": {},
     "output_type": "execute_result"
    }
   ],
   "source": [
    "# genrate a random number array\n",
    "# function random.rand()\n",
    "#syntax np.random.rand(row, column)\n",
    "\n",
    "import numpy as np\n",
    "np.random.rand(3,3)"
   ]
  },
  {
   "cell_type": "code",
   "execution_count": 4,
   "id": "0132cef7",
   "metadata": {},
   "outputs": [
    {
     "data": {
      "text/plain": [
       "array([[ 1.09875405,  0.03362124, -1.86351595],\n",
       "       [ 1.71052545,  0.73456023, -0.98138305],\n",
       "       [ 0.2678185 , -0.90010516, -2.3893019 ]])"
      ]
     },
     "execution_count": 4,
     "metadata": {},
     "output_type": "execute_result"
    }
   ],
   "source": [
    "#Standard normal distribution\n",
    "x=np.random.randn(3,3)\n",
    "x"
   ]
  },
  {
   "cell_type": "code",
   "execution_count": 5,
   "id": "3801f382",
   "metadata": {},
   "outputs": [
    {
     "data": {
      "text/plain": [
       "array([[81, 85, 27, 28],\n",
       "       [69, 69, 45, 12],\n",
       "       [33, 61, 20, 15]])"
      ]
     },
     "execution_count": 5,
     "metadata": {},
     "output_type": "execute_result"
    }
   ],
   "source": [
    "np.random.randint(0,101,(3,4))"
   ]
  },
  {
   "cell_type": "code",
   "execution_count": 6,
   "id": "6f793ef2",
   "metadata": {},
   "outputs": [
    {
     "data": {
      "text/plain": [
       "array([0.37454012, 0.95071431, 0.73199394])"
      ]
     },
     "execution_count": 6,
     "metadata": {},
     "output_type": "execute_result"
    }
   ],
   "source": [
    "# If we want to genrate any random number array once than we use following syntax\n",
    "np.random.seed(42)\n",
    "np.random.rand(3)"
   ]
  },
  {
   "cell_type": "code",
   "execution_count": 7,
   "id": "c9caf1bc",
   "metadata": {},
   "outputs": [
    {
     "data": {
      "text/plain": [
       "array([0, 1, 2, 3, 4, 5, 6, 7, 8, 9])"
      ]
     },
     "execution_count": 7,
     "metadata": {},
     "output_type": "execute_result"
    }
   ],
   "source": [
    "import numpy as np\n",
    "arr=np.arange(0,10)\n",
    "arr"
   ]
  },
  {
   "cell_type": "code",
   "execution_count": 8,
   "id": "a9d3dd9f",
   "metadata": {},
   "outputs": [
    {
     "data": {
      "text/plain": [
       "array([[0, 1],\n",
       "       [2, 3],\n",
       "       [4, 5],\n",
       "       [6, 7],\n",
       "       [8, 9]])"
      ]
     },
     "execution_count": 8,
     "metadata": {},
     "output_type": "execute_result"
    }
   ],
   "source": [
    "# Give a shape to the array\n",
    "arr.reshape(5,2)"
   ]
  },
  {
   "cell_type": "code",
   "execution_count": 9,
   "id": "a10e0170",
   "metadata": {},
   "outputs": [
    {
     "data": {
      "text/plain": [
       "array([60, 20, 82, 86, 74, 74, 87, 99, 23,  2])"
      ]
     },
     "execution_count": 9,
     "metadata": {},
     "output_type": "execute_result"
    }
   ],
   "source": [
    "randarr=np.random.randint(0,101,10)\n",
    "randarr"
   ]
  },
  {
   "cell_type": "code",
   "execution_count": 10,
   "id": "446a2d53",
   "metadata": {},
   "outputs": [
    {
     "data": {
      "text/plain": [
       "99"
      ]
     },
     "execution_count": 10,
     "metadata": {},
     "output_type": "execute_result"
    }
   ],
   "source": [
    "# Find a maximum number\n",
    "randarr.max()"
   ]
  },
  {
   "cell_type": "code",
   "execution_count": null,
   "id": "37820f75",
   "metadata": {},
   "outputs": [],
   "source": []
  }
 ],
 "metadata": {
  "kernelspec": {
   "display_name": "Python 3 (ipykernel)",
   "language": "python",
   "name": "python3"
  },
  "language_info": {
   "codemirror_mode": {
    "name": "ipython",
    "version": 3
   },
   "file_extension": ".py",
   "mimetype": "text/x-python",
   "name": "python",
   "nbconvert_exporter": "python",
   "pygments_lexer": "ipython3",
   "version": "3.9.7"
  }
 },
 "nbformat": 4,
 "nbformat_minor": 5
}
